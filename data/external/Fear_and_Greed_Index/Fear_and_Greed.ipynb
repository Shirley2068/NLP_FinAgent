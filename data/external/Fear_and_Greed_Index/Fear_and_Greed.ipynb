{
 "cells": [
  {
   "cell_type": "code",
   "execution_count": 8,
   "metadata": {},
   "outputs": [],
   "source": [
    "''' Importing the necessary libraries'''\n",
    "import pandas as pd\n",
    "import requests\n",
    "import csv\n",
    "import time\n",
    "import os\n",
    "from dotenv import load_dotenv\n",
    "from datetime import datetime"
   ]
  },
  {
   "cell_type": "code",
   "execution_count": 9,
   "metadata": {},
   "outputs": [],
   "source": [
    "# Load environment variables from .env file\n",
    "load_dotenv()\n",
    "\n",
    "# Import environment variables\n",
    "start_date = os.getenv('start_date')\n",
    "end_date = os.getenv('end_date')\n",
    "btc_etf_start_date = os.getenv('btc_etf_start_date')\n",
    "btc_etf_end_date = os.getenv('btc_etf_end_date')"
   ]
  },
  {
   "cell_type": "code",
   "execution_count": 7,
   "metadata": {},
   "outputs": [
    {
     "name": "stdout",
     "output_type": "stream",
     "text": [
      "Data successfully saved to fear_and_greed_index.csv\n"
     ]
    }
   ],
   "source": [
    "def fetch_fear_and_greed_index():\n",
    "    # Base URL for the Fear and Greed Index API\n",
    "    # Replace this with the actual API endpoint URL.\n",
    "    base_url = \"https://api.alternative.me/fng/?limit=0\"\n",
    "    response = requests.get(base_url)\n",
    "    \n",
    "    # Check if the response was successful\n",
    "    if response.status_code == 200:\n",
    "        data = response.json()\n",
    "        return data['data']\n",
    "    else:\n",
    "        print(f\"Failed to fetch data: {response.status_code}\")\n",
    "        return []\n",
    "\n",
    "def save_to_csv(data, filename):\n",
    "    # Convert list of dictionaries to DataFrame\n",
    "    df = pd.DataFrame(data)\n",
    "    \n",
    "    # Convert Unix timestamps to human-readable date format \"YYYY-MM-DD HH:MM:SS\"\n",
    "    if 'timestamp' in df.columns:\n",
    "        df['timestamp'] = pd.to_datetime(df['timestamp'], unit='s')\n",
    "\n",
    "    # Filter the DataFrame for entries with a timestamp after January 1, 2018\n",
    "    df = df[df['timestamp'] >= start_date]\n",
    "\n",
    "    # Save the DataFrame to a CSV file\n",
    "    df.to_csv(filename, index=False)\n",
    "\n",
    "# Example usage\n",
    "filename = \"fear_and_greed_index.csv\"\n",
    "fear_and_greed_data = fetch_fear_and_greed_index()\n",
    "\n",
    "# Save data with timestamp conversion\n",
    "if fear_and_greed_data:\n",
    "    save_to_csv(fear_and_greed_data, filename)\n",
    "    print(f\"Data successfully saved to {filename}\")\n",
    "else:\n",
    "    print(\"No data available to save.\")\n"
   ]
  }
 ],
 "metadata": {
  "kernelspec": {
   "display_name": "Python 3",
   "language": "python",
   "name": "python3"
  },
  "language_info": {
   "codemirror_mode": {
    "name": "ipython",
    "version": 3
   },
   "file_extension": ".py",
   "mimetype": "text/x-python",
   "name": "python",
   "nbconvert_exporter": "python",
   "pygments_lexer": "ipython3",
   "version": "3.10.7"
  }
 },
 "nbformat": 4,
 "nbformat_minor": 2
}

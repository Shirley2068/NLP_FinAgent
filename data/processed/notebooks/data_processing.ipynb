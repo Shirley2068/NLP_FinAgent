{
 "cells": [
  {
   "cell_type": "code",
   "execution_count": 5,
   "metadata": {},
   "outputs": [],
   "source": [
    "import pandas as pd\n",
    "from datetime import datetime\n",
    "from functools import reduce\n",
    "import os\n",
    "import matplotlib.pyplot as plt\n",
    "from dotenv import load_dotenv\n",
    "from datetime import datetime, timedelta"
   ]
  },
  {
   "cell_type": "code",
   "execution_count": 6,
   "metadata": {},
   "outputs": [
    {
     "name": "stdout",
     "output_type": "stream",
     "text": [
      "2024-03-31\n"
     ]
    }
   ],
   "source": [
    "end_date = '2024-04-01'\n",
    "end_date = datetime.strptime(end_date, '%Y-%m-%d')  # Convert end_date to datetime object\n",
    "new_date = end_date - timedelta(days=1)  # Subtract 1 day from end_date\n",
    "\n",
    "new_date_str = new_date.strftime('%Y-%m-%d')  # Convert new_date back to string format\n",
    "print(new_date_str)  "
   ]
  },
  {
   "cell_type": "code",
   "execution_count": 7,
   "metadata": {},
   "outputs": [],
   "source": [
    "# Load environment variables from .env file\n",
    "load_dotenv()\n",
    "\n",
    "# Import environment variables\n",
    "start_date = os.getenv('start_date')\n",
    "end_date = os.getenv('end_date')"
   ]
  },
  {
   "cell_type": "code",
   "execution_count": 8,
   "metadata": {},
   "outputs": [],
   "source": [
    "# Create a dummy DataFrame with the date range\n",
    "dummy_df = pd.DataFrame({'Date': pd.date_range(start=start_date, end=new_date_str)})\n",
    "dummy_df['Date'] = pd.to_datetime(dummy_df['Date']).dt.strftime(\"%Y-%m-%d\")\n",
    "dummy_df['Date'] = dummy_df['Date'].astype('datetime64[ns]')"
   ]
  },
  {
   "cell_type": "markdown",
   "metadata": {},
   "source": [
    "## Yahoo Finance"
   ]
  },
  {
   "cell_type": "code",
   "execution_count": 9,
   "metadata": {},
   "outputs": [],
   "source": [
    "df_yahoo = pd.read_parquet('C:\\\\Users\\\\Stamatis\\\\Desktop\\\\MLCryptoPredictor\\\\MLCryptoPredictor\\\\data\\\\external\\\\Crypto_Historical_Prices\\\\yahoo_finance.parquet.gzip')\n",
    "\n",
    "# Check for missing values\n",
    "\n",
    "# df_yahoo.isna().sum() \n",
    "\n",
    "# Fill missing values with the previous value and interpolate the rest\n",
    "df_yahoo = df_yahoo.bfill().interpolate(method='linear')\n",
    "\n",
    "merged_df_1 = pd.merge(dummy_df, df_yahoo, on='Date', how='left')\n",
    "\n",
    "# plt.plot(df_yahoo.Date, df_yahoo['GOLD_ADJ_CLOSE'], label='GOLD_ADJ_CLOSE')"
   ]
  },
  {
   "cell_type": "markdown",
   "metadata": {},
   "source": [
    "## Fear and Greed Index"
   ]
  },
  {
   "cell_type": "code",
   "execution_count": 35,
   "metadata": {},
   "outputs": [
    {
     "name": "stderr",
     "output_type": "stream",
     "text": [
      "C:\\Users\\Stamatis\\AppData\\Local\\Temp\\ipykernel_57496\\4151222981.py:14: FutureWarning: DataFrame.interpolate with object dtype is deprecated and will raise in a future version. Call obj.infer_objects(copy=False) before interpolating instead.\n",
      "  merged_df_2 = merged_df_2.bfill().interpolate(method='linear')\n"
     ]
    }
   ],
   "source": [
    "df_fear = pd.read_parquet('C:\\\\Users\\\\Stamatis\\\\Desktop\\\\MLCryptoPredictor\\\\MLCryptoPredictor\\\\data\\\\external\\\\Fear_and_Greed_Index\\\\btc_fear_and_greed.parquet.gzip')\n",
    "\n",
    "df_fear = df_fear[['timestamp', 'value', 'value_classification']]\n",
    "df_fear.rename(columns={'timestamp': 'Date'}, inplace=True)\n",
    "df_fear.sort_values(by='Date', inplace=True)\n",
    "df_fear.reset_index(drop=True, inplace=True)    \n",
    "\n",
    "# Check for missing values\n",
    "df_fear.isna().sum()\n",
    "\n",
    "merged_df_2 = pd.merge(dummy_df, df_fear, on='Date', how='left')\n",
    "\n",
    "# Fill missing values with the previous value and interpolate the rest\n",
    "merged_df_2 = merged_df_2.bfill().interpolate(method='linear')\n",
    "\n",
    "df = pd.DataFrame(merged_df_2)\n",
    "\n",
    "# Pivot the dataframe to get counts of each value classification for each date\n",
    "pivot_df = df.pivot_table(index='Date', columns='value_classification', aggfunc='size', fill_value=0)\n",
    "\n",
    "# Join the pivot table with the original dataframe\n",
    "df = df.merge(pivot_df, on='Date')\n",
    "\n",
    "# Rename the columns\n",
    "df.columns = df.columns.str.replace(' ', '_')  # Replace spaces with underscores"
   ]
  },
  {
   "cell_type": "markdown",
   "metadata": {},
   "source": [
    "## FRED"
   ]
  },
  {
   "cell_type": "code",
   "execution_count": 11,
   "metadata": {},
   "outputs": [],
   "source": [
    "df_fred = pd.read_parquet('C:\\\\Users\\\\Stamatis\\\\Desktop\\\\MLCryptoPredictor\\\\MLCryptoPredictor\\\\data\\\\external\\\\FRED\\\\fred_processed.parquet.gzip')\n",
    "\n",
    "df_fred.rename(columns={'index': 'Date'}, inplace=True)\n",
    "df_fred.sort_values(by='Date', inplace=True)\n",
    "df_fred.reset_index(drop=True, inplace=True) \n",
    "\n",
    "# Check for missing values\n",
    "df_fred.isna().sum()\n",
    "\n",
    "merged_df_3 = pd.merge(dummy_df, df_fred, on='Date', how='left')"
   ]
  },
  {
   "cell_type": "markdown",
   "metadata": {},
   "source": [
    "## Technical Indicators"
   ]
  },
  {
   "cell_type": "code",
   "execution_count": 23,
   "metadata": {},
   "outputs": [],
   "source": [
    "df_tech_ind = pd.read_parquet('C:\\\\Users\\\\Stamatis\\\\Desktop\\\\MLCryptoPredictor\\\\MLCryptoPredictor\\\\data\\\\external\\\\Technical_Indicators\\\\btc_technical_indicators.parquet.gzip')\n",
    "\n",
    "# Check for missing values\n",
    "df_tech_ind.isna().sum()\n",
    "\n",
    "merged_df_4 = pd.merge(dummy_df, df_tech_ind, on='Date', how='left')\n",
    "\n",
    "# Fill missing values with the previous value and interpolate the rest\n",
    "merged_df_4 = merged_df_4.bfill().interpolate(method='linear')"
   ]
  },
  {
   "cell_type": "markdown",
   "metadata": {},
   "source": [
    "## Static CSV Data"
   ]
  },
  {
   "cell_type": "code",
   "execution_count": 14,
   "metadata": {},
   "outputs": [
    {
     "name": "stderr",
     "output_type": "stream",
     "text": [
      "C:\\Users\\Stamatis\\AppData\\Local\\Temp\\ipykernel_57496\\1271001981.py:11: FutureWarning: DataFrame.interpolate with object dtype is deprecated and will raise in a future version. Call obj.infer_objects(copy=False) before interpolating instead.\n",
      "  merged_df_5 = merged_df_5.bfill().interpolate(method='linear')\n"
     ]
    }
   ],
   "source": [
    "df_raw = pd.read_parquet('C:\\\\Users\\\\Stamatis\\\\Desktop\\\\MLCryptoPredictor\\\\MLCryptoPredictor\\\\data\\\\raw\\\\raw_data.parquet.gzip')\n",
    "\n",
    "df_raw['Date'] = df_raw['Date'].astype('datetime64[ns]')\n",
    "\n",
    "# Check for missing values\n",
    "df_raw.isna().sum()\n",
    "\n",
    "merged_df_5 = pd.merge(dummy_df, df_raw, on='Date', how='left')\n",
    "\n",
    "# Fill missing values with the previous value and interpolate the rest\n",
    "merged_df_5 = merged_df_5.bfill().interpolate(method='linear')"
   ]
  },
  {
   "cell_type": "markdown",
   "metadata": {},
   "source": [
    "# Merge all files"
   ]
  },
  {
   "cell_type": "code",
   "execution_count": 28,
   "metadata": {},
   "outputs": [],
   "source": [
    "df_processed = pd.concat([merged_df_1, df, merged_df_3, merged_df_4, merged_df_5], axis=1)\n",
    "\n",
    "# Remove duplicate columns\n",
    "df_processed = df_processed.loc[:, ~df_processed.columns.duplicated()]\n",
    "\n",
    "columns_to_delete = ['BTC_OPEN', 'BTC_HIGH', 'BTC_LOW', 'BTC_CLOSE', 'BTC_ADJ_CLOSE']\n",
    "\n",
    "# Delete the specified columns\n",
    "df_processed = df_processed.drop(columns=columns_to_delete)\n",
    "\n",
    "df_processed.rename(columns={'Market cap': 'MARKET_CAP', 'Volume (24h)' : 'CRYPTO_VOLUME_24' }, inplace=True)\n",
    "\n",
    "del df_processed['var_name'], df_processed['var_label']\n",
    "\n",
    "# Columns to move to the beginning\n",
    "columns_to_move = ['Date', 'Open', 'High', 'Low', 'Close', 'Adj Close', 'Volume']\n",
    "\n",
    "# Reorder columns\n",
    "df_processed = df_processed[columns_to_move + [col for col in df_processed if col not in columns_to_move]]\n"
   ]
  },
  {
   "cell_type": "code",
   "execution_count": null,
   "metadata": {},
   "outputs": [],
   "source": [
    "# len(df_processed.columns)\n",
    "# print(df_processed.columns.tolist())"
   ]
  },
  {
   "cell_type": "code",
   "execution_count": null,
   "metadata": {},
   "outputs": [],
   "source": [
    "df_processed.to_parquet('C:\\\\Users\\\\Stamatis\\\\Desktop\\\\MLCryptoPredictor\\\\MLCryptoPredictor\\\\data\\\\processed\\\\processed_data.parquet.gzip', compression='gzip')"
   ]
  },
  {
   "cell_type": "code",
   "execution_count": null,
   "metadata": {},
   "outputs": [],
   "source": []
  }
 ],
 "metadata": {
  "kernelspec": {
   "display_name": "Python 3",
   "language": "python",
   "name": "python3"
  },
  "language_info": {
   "codemirror_mode": {
    "name": "ipython",
    "version": 3
   },
   "file_extension": ".py",
   "mimetype": "text/x-python",
   "name": "python",
   "nbconvert_exporter": "python",
   "pygments_lexer": "ipython3",
   "version": "3.10.7"
  }
 },
 "nbformat": 4,
 "nbformat_minor": 2
}

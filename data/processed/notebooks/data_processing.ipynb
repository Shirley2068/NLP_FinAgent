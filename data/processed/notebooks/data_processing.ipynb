{
 "cells": [
  {
   "cell_type": "code",
   "execution_count": 1,
   "metadata": {},
   "outputs": [],
   "source": [
    "import pandas as pd\n",
    "from datetime import datetime\n",
    "from functools import reduce\n",
    "import os\n",
    "import matplotlib.pyplot as plt\n",
    "from dotenv import load_dotenv\n",
    "from datetime import datetime, timedelta"
   ]
  },
  {
   "cell_type": "code",
   "execution_count": 2,
   "metadata": {},
   "outputs": [
    {
     "name": "stdout",
     "output_type": "stream",
     "text": [
      "2024-03-31\n"
     ]
    }
   ],
   "source": [
    "end_date = '2024-04-01'\n",
    "end_date = datetime.strptime(end_date, '%Y-%m-%d')  # Convert end_date to datetime object\n",
    "new_date = end_date - timedelta(days=1)  # Subtract 1 day from end_date\n",
    "\n",
    "new_date_str = new_date.strftime('%Y-%m-%d')  # Convert new_date back to string format\n",
    "print(new_date_str)  "
   ]
  },
  {
   "cell_type": "code",
   "execution_count": 3,
   "metadata": {},
   "outputs": [],
   "source": [
    "# Load environment variables from .env file\n",
    "load_dotenv()\n",
    "\n",
    "# Import environment variables\n",
    "start_date = os.getenv('start_date')\n",
    "end_date = os.getenv('end_date')"
   ]
  },
  {
   "cell_type": "code",
   "execution_count": 4,
   "metadata": {},
   "outputs": [],
   "source": [
    "# Create a dummy DataFrame with the date range\n",
    "dummy_df = pd.DataFrame({'Date': pd.date_range(start=start_date, end=new_date_str)})\n",
    "dummy_df['Date'] = pd.to_datetime(dummy_df['Date']).dt.strftime(\"%Y-%m-%d\")\n",
    "dummy_df['Date'] = dummy_df['Date'].astype('datetime64[ns]')"
   ]
  },
  {
   "cell_type": "markdown",
   "metadata": {},
   "source": [
    "## Yahoo Finance"
   ]
  },
  {
   "cell_type": "code",
   "execution_count": 5,
   "metadata": {},
   "outputs": [],
   "source": [
    "df_yahoo = pd.read_parquet('C:\\\\Users\\\\Stamatis\\\\Desktop\\\\MLCryptoPredictor\\\\MLCryptoPredictor\\\\data\\\\external\\\\Crypto_Historical_Prices\\\\files\\\\yahoo_finance.parquet.gzip')\n",
    "\n",
    "# Check for missing values\n",
    "\n",
    "# df_yahoo.isna().sum() \n",
    "\n",
    "# Fill missing values with the previous value and interpolate the rest\n",
    "df_yahoo = df_yahoo.bfill().interpolate(method='linear')\n",
    "\n",
    "merged_df_1 = pd.merge(dummy_df, df_yahoo, on='Date', how='left')\n",
    "\n",
    "# plt.plot(df_yahoo.Date, df_yahoo['GOLD_ADJ_CLOSE'], label='GOLD_ADJ_CLOSE')"
   ]
  },
  {
   "cell_type": "markdown",
   "metadata": {},
   "source": [
    "## Fear and Greed Index"
   ]
  },
  {
   "cell_type": "code",
   "execution_count": 6,
   "metadata": {},
   "outputs": [
    {
     "name": "stderr",
     "output_type": "stream",
     "text": [
      "C:\\Users\\Stamatis\\AppData\\Local\\Temp\\ipykernel_107176\\3900876493.py:14: FutureWarning: DataFrame.interpolate with object dtype is deprecated and will raise in a future version. Call obj.infer_objects(copy=False) before interpolating instead.\n",
      "  merged_df_2 = merged_df_2.bfill().interpolate(method='linear')\n"
     ]
    }
   ],
   "source": [
    "df_fear = pd.read_parquet('C:\\\\Users\\\\Stamatis\\\\Desktop\\\\MLCryptoPredictor\\\\MLCryptoPredictor\\\\data\\\\external\\\\Fear_and_Greed_Index\\\\files\\\\btc_fear_and_greed.parquet.gzip')\n",
    "\n",
    "df_fear = df_fear[['timestamp', 'value', 'value_classification']]\n",
    "df_fear.rename(columns={'timestamp': 'Date'}, inplace=True)\n",
    "df_fear.sort_values(by='Date', inplace=True)\n",
    "df_fear.reset_index(drop=True, inplace=True)    \n",
    "\n",
    "# Check for missing values\n",
    "df_fear.isna().sum()\n",
    "\n",
    "merged_df_2 = pd.merge(dummy_df, df_fear, on='Date', how='left')\n",
    "\n",
    "# Fill missing values with the previous value and interpolate the rest\n",
    "merged_df_2 = merged_df_2.bfill().interpolate(method='linear')\n",
    "\n",
    "df = pd.DataFrame(merged_df_2)\n",
    "\n",
    "# Pivot the dataframe to get counts of each value classification for each date\n",
    "pivot_df = df.pivot_table(index='Date', columns='value_classification', aggfunc='size', fill_value=0)\n",
    "\n",
    "# Join the pivot table with the original dataframe\n",
    "df = df.merge(pivot_df, on='Date')\n",
    "\n",
    "# Rename the columns\n",
    "df.columns = df.columns.str.replace(' ', '_')  # Replace spaces with underscores"
   ]
  },
  {
   "cell_type": "markdown",
   "metadata": {},
   "source": [
    "## FRED"
   ]
  },
  {
   "cell_type": "code",
   "execution_count": 7,
   "metadata": {},
   "outputs": [],
   "source": [
    "df_fred = pd.read_parquet('C:\\\\Users\\\\Stamatis\\\\Desktop\\\\MLCryptoPredictor\\\\MLCryptoPredictor\\\\data\\\\external\\\\FRED\\\\files\\\\fred_processed.parquet.gzip')\n",
    "\n",
    "df_fred.rename(columns={'index': 'Date'}, inplace=True)\n",
    "df_fred.sort_values(by='Date', inplace=True)\n",
    "df_fred.reset_index(drop=True, inplace=True) \n",
    "\n",
    "# Check for missing values\n",
    "df_fred.isna().sum()\n",
    "\n",
    "merged_df_3 = pd.merge(dummy_df, df_fred, on='Date', how='left')"
   ]
  },
  {
   "cell_type": "markdown",
   "metadata": {},
   "source": [
    "## Technical Indicators"
   ]
  },
  {
   "cell_type": "code",
   "execution_count": 8,
   "metadata": {},
   "outputs": [],
   "source": [
    "df_tech_ind = pd.read_parquet('C:\\\\Users\\\\Stamatis\\\\Desktop\\\\MLCryptoPredictor\\\\MLCryptoPredictor\\\\data\\\\external\\\\Technical_Indicators\\\\files\\\\btc_technical_indicators.parquet.gzip')\n",
    "\n",
    "# Check for missing values\n",
    "df_tech_ind.isna().sum()\n",
    "\n",
    "merged_df_4 = pd.merge(dummy_df, df_tech_ind, on='Date', how='left')\n",
    "\n",
    "# Fill missing values with the previous value and interpolate the rest\n",
    "merged_df_4 = merged_df_4.bfill().interpolate(method='linear')"
   ]
  },
  {
   "cell_type": "markdown",
   "metadata": {},
   "source": [
    "## Social Media - Aggregations (Twitter)"
   ]
  },
  {
   "cell_type": "code",
   "execution_count": 9,
   "metadata": {},
   "outputs": [],
   "source": [
    "df_tweet_grouped = pd.read_parquet('C:\\\\Users\\\\Stamatis\\\\Desktop\\\\MLCryptoPredictor\\\\MLCryptoPredictor\\\\data\\\\external\\\\Social_Media\\\\files\\\\Bitcoin_tweets_grouped.parquet.gzip')\n",
    "\n",
    "df_tweet_grouped.rename(columns={'date': 'Date'}, inplace=True)\n",
    "\n",
    "df_tweet_grouped['Date'] = pd.to_datetime(df_tweet_grouped['Date'])\n",
    "\n",
    "merged_df_5 = pd.merge(dummy_df, df_tweet_grouped, on='Date', how='left')\n",
    "\n",
    "# Fill missing values with the previous value and interpolate the rest\n",
    "merged_df_5 = merged_df_5.bfill().interpolate(method='linear')"
   ]
  },
  {
   "cell_type": "code",
   "execution_count": 10,
   "metadata": {},
   "outputs": [],
   "source": [
    "# plt.plot(merged_df_5.Date, merged_df_5['tweet_count'], label='tweet_count')"
   ]
  },
  {
   "cell_type": "markdown",
   "metadata": {},
   "source": [
    "## Static CSV Data"
   ]
  },
  {
   "cell_type": "code",
   "execution_count": 11,
   "metadata": {},
   "outputs": [
    {
     "name": "stderr",
     "output_type": "stream",
     "text": [
      "C:\\Users\\Stamatis\\AppData\\Local\\Temp\\ipykernel_107176\\1517533552.py:11: FutureWarning: DataFrame.interpolate with object dtype is deprecated and will raise in a future version. Call obj.infer_objects(copy=False) before interpolating instead.\n",
      "  merged_df_6 = merged_df_6.bfill().interpolate(method='linear')\n"
     ]
    }
   ],
   "source": [
    "df_raw = pd.read_parquet('C:\\\\Users\\\\Stamatis\\\\Desktop\\\\MLCryptoPredictor\\\\MLCryptoPredictor\\\\data\\\\raw\\\\files\\\\raw_data.parquet.gzip')\n",
    "\n",
    "df_raw['Date'] = df_raw['Date'].astype('datetime64[ns]')\n",
    "\n",
    "# Check for missing values\n",
    "df_raw.isna().sum()\n",
    "\n",
    "merged_df_6 = pd.merge(dummy_df, df_raw, on='Date', how='left')\n",
    "\n",
    "# Fill missing values with the previous value and interpolate the rest\n",
    "merged_df_6 = merged_df_6.bfill().interpolate(method='linear')"
   ]
  },
  {
   "cell_type": "markdown",
   "metadata": {},
   "source": [
    "## Target Creation (Y variable)"
   ]
  },
  {
   "cell_type": "code",
   "execution_count": 12,
   "metadata": {},
   "outputs": [],
   "source": [
    "df_target = pd.read_parquet('C:\\\\Users\\\\Stamatis\\\\Desktop\\\\MLCryptoPredictor\\\\MLCryptoPredictor\\\\data\\\\processed\\\\files\\\\btc_target.parquet.gzip')\n",
    "\n",
    "df_target['Date'] = df_target['Date'].astype('datetime64[ns]')\n",
    "\n",
    "# Check for missing values\n",
    "df_raw.isna().sum()\n",
    "\n",
    "merged_df_7 = pd.merge(dummy_df, df_target, on='Date', how='left')\n",
    "\n",
    "# Fill missing values with the previous value and interpolate the rest\n",
    "merged_df_7 = merged_df_7.bfill().interpolate(method='linear')"
   ]
  },
  {
   "cell_type": "markdown",
   "metadata": {},
   "source": [
    "# Merge all files"
   ]
  },
  {
   "cell_type": "code",
   "execution_count": 13,
   "metadata": {},
   "outputs": [],
   "source": [
    "df_processed = pd.concat([merged_df_1, df, merged_df_3, merged_df_4, merged_df_5, merged_df_6, merged_df_7], axis=1)\n",
    "\n",
    "# Remove duplicate columns\n",
    "df_processed = df_processed.loc[:, ~df_processed.columns.duplicated()]\n",
    "\n",
    "columns_to_delete = ['BTC_OPEN', 'BTC_HIGH', 'BTC_LOW', 'BTC_CLOSE', 'BTC_ADJ_CLOSE', 'Adj_Close']\n",
    "\n",
    "# Delete the specified columns\n",
    "df_processed = df_processed.drop(columns=columns_to_delete)\n",
    "\n",
    "df_processed.rename(columns={'Market cap': 'MARKET_CAP', 'Volume (24h)' : 'CRYPTO_VOLUME_24' }, inplace=True)\n",
    "\n",
    "del df_processed['var_name'], df_processed['var_label']\n",
    "\n",
    "# Columns to move to the beginning\n",
    "columns_to_move = ['Date', 'Open', 'High', 'Low', 'Close', 'Adj Close', 'Volume']\n",
    "\n",
    "# Reorder columns\n",
    "df_processed = df_processed[columns_to_move + [col for col in df_processed if col not in columns_to_move]]"
   ]
  },
  {
   "cell_type": "code",
   "execution_count": 14,
   "metadata": {},
   "outputs": [
    {
     "name": "stdout",
     "output_type": "stream",
     "text": [
      "['Date', 'Open', 'High', 'Low', 'Close', 'Adj Close', 'Volume', 'GOLD_ADJ_CLOSE', 'SILVER_ADJ_CLOSE', 'OIL_ADJ_CLOSE', 'GOLD_VOLUME', 'SILVER_VOLUME', 'OIL_VOLUME', 'EUR_USD_ADJ_CLOSE', 'USD_JPY_ADJ_CLOSE', 'GBP_USD_ADJ_CLOSE', 'USD_CNY_ADJ_CLOSE', 'VIX_ADJ_CLOSE', 'CBOE_INTEREST_RATE_ADJ_CLOSE', 'TREASURY_YIELD_5YRS_ADJ_CLOSE', 'RUSSEL_2000_ADJ_CLOSE', 'ISHARES_20YR_ADJ_CLOSE', 'TREASURY_BILL_13WK_ADJ_CLOSE', 'RUSSEL_2000_VOLUME', 'ISHARES_20YR_VOLUME', 'TESLA_ADJ_CLOSE', 'AMD_ADJ_CLOSE', 'INTEL_ADJ_CLOSE', 'APPLE_ADJ_CLOSE', 'NVIDIA_ADJ_CLOSE', 'META_ADJ_CLOSE', 'GOOGLE_ADJ_CLOSE', 'TESLA_VOLUME', 'AMD_VOLUME', 'INTEL_VOLUME', 'APPLE_VOLUME', 'NVIDIA_VOLUME', 'META_VOLUME', 'GOOGLE_VOLUME', 'GBTC_ADJ_CLOSE', 'ARKB_ADJ_CLOSE', 'BITB_ADJ_CLOSE', 'FBTC_ADJ_CLOSE', 'BTCO_ADJ_CLOSE', 'IBIT_ADJ_CLOSE', 'HODL_ADJ_CLOSE', 'BITO_ADJ_CLOSE', 'GBTC_VOLUME', 'ARKB_VOLUME', 'BITB_VOLUME', 'FBTC_VOLUME', 'BTCO_VOLUME', 'IBIT_VOLUME', 'HODL_VOLUME', 'BITO_VOLUME', 'BTC_VOLUME', 'ETH_ADJ_CLOSE', 'ETH_VOLUME', 'USDT_ADJ_CLOSE', 'USDT_VOLUME', 'USDC_ADJ_CLOSE', 'USDC_VOLUME', 'DOGE_ADJ_CLOSE', 'DOGE_VOLUME', 'XRP_ADJ_CLOSE', 'XRP_VOLUME', 'SOL_ADJ_CLOSE', 'SOL_VOLUME', 'GAS_ADJ_CLOSE', 'GAS_VOLUME', 'GAS_USD', 'value', 'value_classification', 'Extreme_Fear', 'Extreme_Greed', 'Fear', 'Greed', 'Neutral', 'sp500_adjusted', 'gdp', 'rgdp', 'unrate', 'cpi', 'interest_rate_adjusted', 'treasure_maturity_adjusted', 'inflation_rate_adjusted', 'sticky_cpi', 'm2_money_stock_adjusted', 'volume_adi', 'volume_obv', 'volume_cmf', 'volume_fi', 'volume_em', 'volume_sma_em', 'volume_vpt', 'volume_vwap', 'volume_mfi', 'volume_nvi', 'volatility_bbm', 'volatility_bbh', 'volatility_bbl', 'volatility_bbw', 'volatility_bbp', 'volatility_bbhi', 'volatility_bbli', 'volatility_kcc', 'volatility_kch', 'volatility_kcl', 'volatility_kcw', 'volatility_kcp', 'volatility_kchi', 'volatility_kcli', 'volatility_dcl', 'volatility_dch', 'volatility_dcm', 'volatility_dcw', 'volatility_dcp', 'volatility_atr', 'volatility_ui', 'trend_macd', 'trend_macd_signal', 'trend_macd_diff', 'trend_sma_fast', 'trend_sma_slow', 'trend_ema_fast', 'trend_ema_slow', 'trend_vortex_ind_pos', 'trend_vortex_ind_neg', 'trend_vortex_ind_diff', 'trend_trix', 'trend_mass_index', 'trend_dpo', 'trend_kst', 'trend_kst_sig', 'trend_kst_diff', 'trend_ichimoku_conv', 'trend_ichimoku_base', 'trend_ichimoku_a', 'trend_ichimoku_b', 'trend_stc', 'trend_adx', 'trend_adx_pos', 'trend_adx_neg', 'trend_cci', 'trend_visual_ichimoku_a', 'trend_visual_ichimoku_b', 'trend_aroon_up', 'trend_aroon_down', 'trend_aroon_ind', 'trend_psar_up', 'trend_psar_down', 'trend_psar_up_indicator', 'trend_psar_down_indicator', 'momentum_rsi', 'momentum_stoch_rsi', 'momentum_stoch_rsi_k', 'momentum_stoch_rsi_d', 'momentum_tsi', 'momentum_uo', 'momentum_stoch', 'momentum_stoch_signal', 'momentum_wr', 'momentum_ao', 'momentum_roc', 'momentum_ppo', 'momentum_ppo_signal', 'momentum_ppo_hist', 'momentum_pvo', 'momentum_pvo_signal', 'momentum_pvo_hist', 'momentum_kama', 'others_dr', 'others_dlr', 'others_cr', 'unique_users', 'followers', 'tweet_count', 'BTC_PERCENTAGE_DOMINANCE', 'ETH_PERCENTAGE_DOMINANCE', 'USDT_PERCENTAGE_DOMINANCE', 'BNB_PERCENTAGE_DOMINANCE', 'SOL_PERCENTAGE_DOMINANCE', 'OTHERS_PERCENTAGE_DOMINANCE', 'GPR', 'GPRT', 'GPRA', 'GPRH', 'GPRHT', 'GPRHA', 'SHARE_GPR', 'N10', 'SHARE_GPRH', 'N3H', 'GPRH_NOEW', 'GPR_NOEW', 'GPRH_AND', 'GPR_AND', 'GPRH_BASIC', 'GPR_BASIC', 'SHAREH_CAT_1', 'SHAREH_CAT_2', 'SHAREH_CAT_3', 'SHAREH_CAT_4', 'SHAREH_CAT_5', 'SHAREH_CAT_6', 'SHAREH_CAT_7', 'SHAREH_CAT_8', 'GPRC_ARG', 'GPRC_AUS', 'GPRC_BEL', 'GPRC_BRA', 'GPRC_CAN', 'GPRC_CHE', 'GPRC_CHL', 'GPRC_CHN', 'GPRC_COL', 'GPRC_DEU', 'GPRC_DNK', 'GPRC_EGY', 'GPRC_ESP', 'GPRC_FIN', 'GPRC_FRA', 'GPRC_GBR', 'GPRC_HKG', 'GPRC_HUN', 'GPRC_IDN', 'GPRC_IND', 'GPRC_ISR', 'GPRC_ITA', 'GPRC_JPN', 'GPRC_KOR', 'GPRC_MEX', 'GPRC_MYS', 'GPRC_NLD', 'GPRC_NOR', 'GPRC_PER', 'GPRC_PHL', 'GPRC_POL', 'GPRC_PRT', 'GPRC_RUS', 'GPRC_SAU', 'GPRC_SWE', 'GPRC_THA', 'GPRC_TUN', 'GPRC_TUR', 'GPRC_TWN', 'GPRC_UKR', 'GPRC_USA', 'GPRC_VEN', 'GPRC_VNM', 'GPRC_ZAF', 'GPRHC_ARG', 'GPRHC_AUS', 'GPRHC_BEL', 'GPRHC_BRA', 'GPRHC_CAN', 'GPRHC_CHE', 'GPRHC_CHL', 'GPRHC_CHN', 'GPRHC_COL', 'GPRHC_DEU', 'GPRHC_DNK', 'GPRHC_EGY', 'GPRHC_ESP', 'GPRHC_FIN', 'GPRHC_FRA', 'GPRHC_GBR', 'GPRHC_HKG', 'GPRHC_HUN', 'GPRHC_IDN', 'GPRHC_IND', 'GPRHC_ISR', 'GPRHC_ITA', 'GPRHC_JPN', 'GPRHC_KOR', 'GPRHC_MEX', 'GPRHC_MYS', 'GPRHC_NLD', 'GPRHC_NOR', 'GPRHC_PER', 'GPRHC_PHL', 'GPRHC_POL', 'GPRHC_PRT', 'GPRHC_RUS', 'GPRHC_SAU', 'GPRHC_SWE', 'GPRHC_THA', 'GPRHC_TUN', 'GPRHC_TUR', 'GPRHC_TWN', 'GPRHC_UKR', 'GPRHC_USA', 'GPRHC_VEN', 'GPRHC_VNM', 'GPRHC_ZAF', 'MARKET_CAP', 'CRYPTO_VOLUME_24', 'WTUI', 'WUI', 'btc_daily_absolute_change', 'btc_daily_returns_perc', 'btc_log_difference', 'btc_price_min_7d', 'btc_price_max_7d', 'btc_price_min_14d', 'btc_price_max_14d', 'btc_price_min_21d', 'btc_price_max_21d', 'btc_price_min_30d', 'btc_price_max_30d', 'btc_price_min_60d', 'btc_price_max_60d']\n"
     ]
    }
   ],
   "source": [
    "print(df_processed.columns.to_list())"
   ]
  },
  {
   "cell_type": "code",
   "execution_count": 49,
   "metadata": {},
   "outputs": [
    {
     "data": {
      "text/plain": [
       "312"
      ]
     },
     "execution_count": 49,
     "metadata": {},
     "output_type": "execute_result"
    }
   ],
   "source": [
    "len(df_processed.columns)\n",
    "# print(df_processed.columns.tolist())"
   ]
  },
  {
   "cell_type": "code",
   "execution_count": 51,
   "metadata": {},
   "outputs": [],
   "source": [
    "df_processed.to_parquet('C:\\\\Users\\\\Stamatis\\\\Desktop\\\\MLCryptoPredictor\\\\MLCryptoPredictor\\\\data\\\\processed\\\\files\\\\processed_data.parquet.gzip', compression='gzip')"
   ]
  }
 ],
 "metadata": {
  "kernelspec": {
   "display_name": "Python 3",
   "language": "python",
   "name": "python3"
  },
  "language_info": {
   "codemirror_mode": {
    "name": "ipython",
    "version": 3
   },
   "file_extension": ".py",
   "mimetype": "text/x-python",
   "name": "python",
   "nbconvert_exporter": "python",
   "pygments_lexer": "ipython3",
   "version": "3.10.7"
  }
 },
 "nbformat": 4,
 "nbformat_minor": 2
}

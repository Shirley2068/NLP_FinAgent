{
 "cells": [
  {
   "cell_type": "code",
   "execution_count": 1,
   "metadata": {},
   "outputs": [],
   "source": [
    "import pandas as pd\n",
    "import numpy as np\n",
    "import datetime\n",
    "import os\n",
    "from dotenv import load_dotenv"
   ]
  },
  {
   "cell_type": "code",
   "execution_count": 2,
   "metadata": {},
   "outputs": [],
   "source": [
    "# Load environment variables from .env file\n",
    "load_dotenv()\n",
    "\n",
    "# Import environment variables\n",
    "start_date = os.getenv('start_date')\n",
    "end_date = os.getenv('end_date')"
   ]
  },
  {
   "cell_type": "code",
   "execution_count": 54,
   "metadata": {},
   "outputs": [],
   "source": [
    "cwd = os.getcwd()  # get current working directory\n",
    "\n",
    "# Get the parent directory of the current working directory\n",
    "grandparent_dir = os.path.dirname(os.path.dirname(os.path.dirname(os.getcwd())))"
   ]
  },
  {
   "cell_type": "code",
   "execution_count": 55,
   "metadata": {},
   "outputs": [],
   "source": [
    "btc_dominance = pd.read_csv(os.path.join(grandparent_dir, \"data\\\\raw\\\\files\\\\bitcoin-dominance_(Coinmarketcap).csv\"))\n",
    "data_gpr = pd.read_csv(os.path.join(grandparent_dir, \"data\\\\raw\\\\files\\\\data_gpr_export.csv\"))\n",
    "market_cap = pd.read_csv(os.path.join(grandparent_dir, \"data\\\\raw\\\\files\\\\market-cap_20130429_20240413_(Coinmarketcap).csv\"))\n",
    "market_volume = pd.read_csv(os.path.join(grandparent_dir, \"data\\\\raw\\\\files\\\\volume-24h_20130429_20240413_(Coinmarketcap).csv\"))\n",
    "wtui_df = pd.read_csv(os.path.join(grandparent_dir, \"data\\\\raw\\\\files\\\\WTUI_Data.csv\"))\n",
    "wui_df = pd.read_csv(os.path.join(grandparent_dir, \"data\\\\raw\\\\files\\\\WUI_Data.csv\"))"
   ]
  },
  {
   "cell_type": "markdown",
   "metadata": {},
   "source": [
    "## Data Processing"
   ]
  },
  {
   "cell_type": "code",
   "execution_count": 56,
   "metadata": {},
   "outputs": [],
   "source": [
    "btc_dominance['DateTime'] = pd.to_datetime(btc_dominance['DateTime']).dt.strftime(\"%Y-%m-%d\")\n",
    "btc_dominance = btc_dominance[btc_dominance['DateTime'] >= start_date].reset_index(drop=True)\n",
    "btc_dominance.rename(columns={'DateTime': 'Date'}, inplace=True)\n",
    "\n",
    "df_dominance = pd.DataFrame(btc_dominance)\n",
    "\n",
    "# Select only numeric columns for summation\n",
    "numeric_cols = df_dominance.select_dtypes(include=[float, int]).columns\n",
    "\n",
    "# Calculate sum of numeric columns for each row\n",
    "df_dominance['sum'] = df_dominance[numeric_cols].sum(axis=1)\n",
    "\n",
    "# Calculate percentage for each column\n",
    "for col in df_dominance.columns[1:-1]:  # Exclude 'Date', 'Sum', and 'Others'\n",
    "    df_dominance[col + '_percentage_dominance'] = df_dominance[col] / df_dominance['sum']\n",
    "    \n",
    "df_dominance.columns = df_dominance.columns.str.upper()\n",
    "\n",
    "df_dominance.rename(columns={'DATE': 'Date'}, inplace=True)\n",
    "\n",
    "# Select specific columns to keep\n",
    "specific_columns = ['BTC_PERCENTAGE_DOMINANCE', 'ETH_PERCENTAGE_DOMINANCE', 'USDT_PERCENTAGE_DOMINANCE', 'BNB_PERCENTAGE_DOMINANCE', 'SOL_PERCENTAGE_DOMINANCE', 'OTHERS_PERCENTAGE_DOMINANCE']\n",
    "\n",
    "# Create a new DataFrame containing only the specific columns\n",
    "df_dominance_edit = df_dominance[['Date'] + specific_columns].copy()"
   ]
  },
  {
   "cell_type": "code",
   "execution_count": 57,
   "metadata": {},
   "outputs": [],
   "source": [
    "data_gpr['month'] = pd.to_datetime(data_gpr['month']).dt.strftime(\"%Y-%m-%d\")\n",
    "data_gpr.rename(columns={'month': 'Date'}, inplace=True)"
   ]
  },
  {
   "cell_type": "code",
   "execution_count": 58,
   "metadata": {},
   "outputs": [],
   "source": [
    "market_cap['DateTime'] = pd.to_datetime(market_cap['DateTime']).dt.strftime(\"%Y-%m-%d\")\n",
    "market_cap.rename(columns={'DateTime': 'Date'}, inplace=True)"
   ]
  },
  {
   "cell_type": "code",
   "execution_count": 59,
   "metadata": {},
   "outputs": [],
   "source": [
    "market_volume['DateTime'] = pd.to_datetime(market_volume['DateTime']).dt.strftime(\"%Y-%m-%d\")\n",
    "market_volume.rename(columns={'DateTime': 'Date'}, inplace=True)"
   ]
  },
  {
   "cell_type": "code",
   "execution_count": 60,
   "metadata": {},
   "outputs": [],
   "source": [
    "# Convert 'year' to PeriodIndex with frequency 'Q'\n",
    "wtui_df['year'] = pd.PeriodIndex(wtui_df['year'], freq='Q')\n",
    "wtui_df['year'] = wtui_df['year'].astype('datetime64[ns]')\n",
    "\n",
    "# Convert dates to the desired format\n",
    "wtui_df['year'] = wtui_df['year'].dt.strftime('%Y-%m-%d')\n",
    "wtui_df.rename(columns={'year': 'Date'}, inplace=True)"
   ]
  },
  {
   "cell_type": "code",
   "execution_count": 61,
   "metadata": {},
   "outputs": [],
   "source": [
    "# Convert 'year' to PeriodIndex with frequency 'Q'\n",
    "wui_df['year'] = pd.PeriodIndex(wui_df['year'], freq='Q')\n",
    "wui_df['year'] = wui_df['year'].astype('datetime64[ns]')\n",
    "\n",
    "# Convert dates to the desired format\n",
    "wui_df['year'] = wui_df['year'].dt.strftime('%Y-%m-%d')\n",
    "wui_df.rename(columns={'year': 'Date'}, inplace=True)"
   ]
  },
  {
   "cell_type": "markdown",
   "metadata": {},
   "source": [
    "## Concatenate all datasets"
   ]
  },
  {
   "cell_type": "code",
   "execution_count": 62,
   "metadata": {},
   "outputs": [],
   "source": [
    "# Create a dummy DataFrame with the date range\n",
    "dummy_df = pd.DataFrame({'Date': pd.date_range(start=start_date, end=end_date)})\n",
    "dummy_df['Date'] = pd.to_datetime(dummy_df['Date']).dt.strftime(\"%Y-%m-%d\")\n",
    "\n",
    "merged_df = pd.merge(dummy_df, df_dominance_edit, on='Date', how='left')\n",
    "merged_df = pd.merge(merged_df, data_gpr, on='Date', how='left')\n",
    "merged_df = pd.merge(merged_df, market_cap, on='Date', how='left')\n",
    "merged_df = pd.merge(merged_df, market_volume, on='Date', how='left')\n",
    "merged_df = pd.merge(merged_df, wtui_df, on='Date', how='left')\n",
    "merged_df = pd.merge(merged_df, wui_df, on='Date', how='left')"
   ]
  },
  {
   "cell_type": "code",
   "execution_count": null,
   "metadata": {},
   "outputs": [],
   "source": [
    "merged_df.to_parquet(os.path.join(grandparent_dir, \"data\\\\processed\\\\files\\\\merged_df.parquet\"), index=False)"
   ]
  }
 ],
 "metadata": {
  "kernelspec": {
   "display_name": "Python 3",
   "language": "python",
   "name": "python3"
  },
  "language_info": {
   "codemirror_mode": {
    "name": "ipython",
    "version": 3
   },
   "file_extension": ".py",
   "mimetype": "text/x-python",
   "name": "python",
   "nbconvert_exporter": "python",
   "pygments_lexer": "ipython3",
   "version": "3.10.7"
  }
 },
 "nbformat": 4,
 "nbformat_minor": 2
}

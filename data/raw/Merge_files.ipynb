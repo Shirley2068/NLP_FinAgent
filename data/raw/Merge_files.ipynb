{
 "cells": [
  {
   "cell_type": "code",
   "execution_count": 51,
   "metadata": {},
   "outputs": [],
   "source": [
    "import pandas as pd\n",
    "import numpy as np\n",
    "import datetime\n",
    "import os\n",
    "from dotenv import load_dotenv"
   ]
  },
  {
   "cell_type": "code",
   "execution_count": 52,
   "metadata": {},
   "outputs": [],
   "source": [
    "# Load environment variables from .env file\n",
    "load_dotenv()\n",
    "\n",
    "# Import environment variables\n",
    "start_date = os.getenv('start_date')\n",
    "end_date = os.getenv('end_date')"
   ]
  },
  {
   "cell_type": "code",
   "execution_count": 87,
   "metadata": {},
   "outputs": [],
   "source": [
    "btc_dominance = pd.read_csv('bitcoin-dominance_(Coinmarketcap).csv')\n",
    "data_gpr = pd.read_csv('data_gpr_export.csv')\n",
    "market_cap = pd.read_csv('market-cap_20130429_20240413_(Coinmarketcap).csv')\n",
    "market_volume = pd.read_csv('volume-24h_20130429_20240413_(Coinmarketcap).csv')\n",
    "wtui_df = pd.read_csv('WTUI_Data.csv')\n",
    "wui_df = pd.read_csv('WUI_Data.csv')"
   ]
  },
  {
   "cell_type": "markdown",
   "metadata": {},
   "source": [
    "## Data Processing"
   ]
  },
  {
   "cell_type": "code",
   "execution_count": 88,
   "metadata": {},
   "outputs": [],
   "source": [
    "btc_dominance['DateTime'] = pd.to_datetime(btc_dominance['DateTime']).dt.strftime(\"%Y-%m-%d\")\n",
    "btc_dominance = btc_dominance[btc_dominance['DateTime'] >= start_date].reset_index(drop=True)\n",
    "btc_dominance.rename(columns={'DateTime': 'Date'}, inplace=True)"
   ]
  },
  {
   "cell_type": "code",
   "execution_count": 89,
   "metadata": {},
   "outputs": [],
   "source": [
    "data_gpr['month'] = pd.to_datetime(data_gpr['month']).dt.strftime(\"%Y-%m-%d\")\n",
    "data_gpr.rename(columns={'month': 'Date'}, inplace=True)"
   ]
  },
  {
   "cell_type": "code",
   "execution_count": 90,
   "metadata": {},
   "outputs": [],
   "source": [
    "market_cap['DateTime'] = pd.to_datetime(market_cap['DateTime']).dt.strftime(\"%Y-%m-%d\")\n",
    "market_cap.rename(columns={'DateTime': 'Date'}, inplace=True)"
   ]
  },
  {
   "cell_type": "code",
   "execution_count": 91,
   "metadata": {},
   "outputs": [],
   "source": [
    "market_volume['DateTime'] = pd.to_datetime(market_volume['DateTime']).dt.strftime(\"%Y-%m-%d\")\n",
    "market_volume.rename(columns={'DateTime': 'Date'}, inplace=True)"
   ]
  },
  {
   "cell_type": "code",
   "execution_count": 92,
   "metadata": {},
   "outputs": [],
   "source": [
    "# Convert 'year' to PeriodIndex with frequency 'Q'\n",
    "wtui_df['year'] = pd.PeriodIndex(wtui_df['year'], freq='Q')\n",
    "wtui_df['year'] = wtui_df['year'].astype('datetime64[ns]')\n",
    "\n",
    "# Convert dates to the desired format\n",
    "wtui_df['year'] = wtui_df['year'].dt.strftime('%Y-%m-%d')\n",
    "wtui_df.rename(columns={'year': 'Date'}, inplace=True)"
   ]
  },
  {
   "cell_type": "code",
   "execution_count": 93,
   "metadata": {},
   "outputs": [],
   "source": [
    "# Convert 'year' to PeriodIndex with frequency 'Q'\n",
    "wui_df['year'] = pd.PeriodIndex(wui_df['year'], freq='Q')\n",
    "wui_df['year'] = wui_df['year'].astype('datetime64[ns]')\n",
    "\n",
    "# Convert dates to the desired format\n",
    "wui_df['year'] = wui_df['year'].dt.strftime('%Y-%m-%d')\n",
    "wui_df.rename(columns={'year': 'Date'}, inplace=True)"
   ]
  },
  {
   "cell_type": "markdown",
   "metadata": {},
   "source": [
    "## Concatenate all datasets"
   ]
  },
  {
   "cell_type": "code",
   "execution_count": 100,
   "metadata": {},
   "outputs": [],
   "source": [
    "# Create a dummy DataFrame with the date range\n",
    "dummy_df = pd.DataFrame({'Date': pd.date_range(start=start_date, end=end_date)})\n",
    "dummy_df['Date'] = pd.to_datetime(dummy_df['Date']).dt.strftime(\"%Y-%m-%d\")\n",
    "\n",
    "merged_df = pd.merge(dummy_df, btc_dominance, on='Date', how='left')\n",
    "merged_df = pd.merge(merged_df, data_gpr, on='Date', how='left')\n",
    "merged_df = pd.merge(merged_df, market_cap, on='Date', how='left')\n",
    "merged_df = pd.merge(merged_df, market_volume, on='Date', how='left')\n",
    "merged_df = pd.merge(merged_df, wtui_df, on='Date', how='left')\n",
    "merged_df = pd.merge(merged_df, wui_df, on='Date', how='left')"
   ]
  }
 ],
 "metadata": {
  "kernelspec": {
   "display_name": "Python 3",
   "language": "python",
   "name": "python3"
  },
  "language_info": {
   "codemirror_mode": {
    "name": "ipython",
    "version": 3
   },
   "file_extension": ".py",
   "mimetype": "text/x-python",
   "name": "python",
   "nbconvert_exporter": "python",
   "pygments_lexer": "ipython3",
   "version": "3.10.7"
  }
 },
 "nbformat": 4,
 "nbformat_minor": 2
}
